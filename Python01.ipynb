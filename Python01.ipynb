{
  "nbformat": 4,
  "nbformat_minor": 0,
  "metadata": {
    "colab": {
      "name": "Python01.ipynb",
      "provenance": [],
      "collapsed_sections": [
        "1YwudvpzgX0a",
        "CXitTky0bsTa",
        "iQQ8bWdadBU_",
        "VKTYVjOLepFG"
      ],
      "toc_visible": true,
      "authorship_tag": "ABX9TyNy82WRchA5pOWcEfXmg8AL",
      "include_colab_link": true
    },
    "kernelspec": {
      "name": "python3",
      "display_name": "Python 3"
    }
  },
  "cells": [
    {
      "cell_type": "markdown",
      "metadata": {
        "id": "view-in-github",
        "colab_type": "text"
      },
      "source": [
        "<a href=\"https://colab.research.google.com/github/T2020T/Test_Colab/blob/main/Python01.ipynb\" target=\"_parent\"><img src=\"https://colab.research.google.com/assets/colab-badge.svg\" alt=\"Open In Colab\"/></a>"
      ]
    },
    {
      "cell_type": "markdown",
      "metadata": {
        "id": "1YwudvpzgX0a"
      },
      "source": [
        "# Beginning To Code on colab"
      ]
    },
    {
      "cell_type": "code",
      "metadata": {
        "id": "iFLoZp0EXHmE",
        "outputId": "dc2cc83d-66cf-4453-c9ae-0b4849a96929",
        "colab": {
          "base_uri": "https://localhost:8080/",
          "height": 51
        }
      },
      "source": [
        "print(\"Jai Swaminarayan\");\n",
        "\n",
        "print(\"Testing Python using colab\");\n"
      ],
      "execution_count": 8,
      "outputs": [
        {
          "output_type": "stream",
          "text": [
            "Jai Swaminarayan\n",
            "Testing Python using colab\n"
          ],
          "name": "stdout"
        }
      ]
    },
    {
      "cell_type": "code",
      "metadata": {
        "id": "kREUKyxQXtD-"
      },
      "source": [
        "import os;\n",
        "import sys;\n"
      ],
      "execution_count": 15,
      "outputs": []
    },
    {
      "cell_type": "markdown",
      "metadata": {
        "id": "CXitTky0bsTa"
      },
      "source": [
        "# Sales Calculation\n"
      ]
    },
    {
      "cell_type": "markdown",
      "metadata": {
        "id": "paQx9aCbb030"
      },
      "source": [
        "## Formula"
      ]
    },
    {
      "cell_type": "markdown",
      "metadata": {
        "id": "KHLiLSrPcMCx"
      },
      "source": [
        "#### Income = Revenue * Tax"
      ]
    },
    {
      "cell_type": "code",
      "metadata": {
        "id": "lSieoC1uXx_d"
      },
      "source": [
        "revenue = 10000\n",
        "tax = 0.19\n",
        "income = revenue * tax\n"
      ],
      "execution_count": 13,
      "outputs": []
    },
    {
      "cell_type": "code",
      "metadata": {
        "id": "pbeIGe1YbEkB",
        "outputId": "c609ad7b-3a62-42c8-b6ce-1c2b315460d7",
        "colab": {
          "base_uri": "https://localhost:8080/",
          "height": 34
        }
      },
      "source": [
        "3print(income);"
      ],
      "execution_count": 12,
      "outputs": [
        {
          "output_type": "stream",
          "text": [
            "1900.0\n"
          ],
          "name": "stdout"
        }
      ]
    },
    {
      "cell_type": "code",
      "metadata": {
        "id": "0c3inDjtbnSV"
      },
      "source": [
        ""
      ],
      "execution_count": null,
      "outputs": []
    },
    {
      "cell_type": "markdown",
      "metadata": {
        "id": "iQQ8bWdadBU_"
      },
      "source": [
        "# Try Importing Modules stored in google colab"
      ]
    },
    {
      "cell_type": "code",
      "metadata": {
        "id": "rjEsh_O1dEqN"
      },
      "source": [
        "import numpy as np\n"
      ],
      "execution_count": 16,
      "outputs": []
    },
    {
      "cell_type": "code",
      "metadata": {
        "id": "CPgw5CbeduI_"
      },
      "source": [
        "np.random?\n",
        "\n"
      ],
      "execution_count": 18,
      "outputs": []
    },
    {
      "cell_type": "code",
      "metadata": {
        "id": "fmAiQ44Wdx9G",
        "outputId": "ca5b6c2d-7ae0-4d76-8b37-822e8ec27fc2",
        "colab": {
          "base_uri": "https://localhost:8080/",
          "height": 34
        }
      },
      "source": [
        "# get help in google colab just use ? behind module or method\n",
        "np.random.randint?\n",
        "np.random.randint(10)"
      ],
      "execution_count": 24,
      "outputs": [
        {
          "output_type": "execute_result",
          "data": {
            "text/plain": [
              "2"
            ]
          },
          "metadata": {
            "tags": []
          },
          "execution_count": 24
        }
      ]
    },
    {
      "cell_type": "markdown",
      "metadata": {
        "id": "VKTYVjOLepFG"
      },
      "source": [
        "# Install Modules directly inside colab use:\n",
        "!pip install moduleName\n",
        "\n"
      ]
    },
    {
      "cell_type": "code",
      "metadata": {
        "id": "vqNQLaERd8HX",
        "outputId": "4dc50469-ec79-4b10-f9ba-2ad11848d2cd",
        "colab": {
          "base_uri": "https://localhost:8080/",
          "height": 54
        }
      },
      "source": [
        "! pip install youtube-dl\n"
      ],
      "execution_count": 36,
      "outputs": [
        {
          "output_type": "stream",
          "text": [
            "Requirement already satisfied: youtube-dl in /usr/local/lib/python3.6/dist-packages (2020.9.20)\n"
          ],
          "name": "stdout"
        }
      ]
    },
    {
      "cell_type": "code",
      "metadata": {
        "id": "nUlZsrXqfA0r",
        "outputId": "ef9fd1e7-4d73-4f4b-c8f6-c2bd8f730cd8",
        "colab": {
          "base_uri": "https://localhost:8080/",
          "height": 224
        }
      },
      "source": [
        "! pip install imageai"
      ],
      "execution_count": 37,
      "outputs": [
        {
          "output_type": "stream",
          "text": [
            "Requirement already satisfied: imageai in /usr/local/lib/python3.6/dist-packages (2.1.5)\n",
            "Requirement already satisfied: matplotlib in /usr/local/lib/python3.6/dist-packages (from imageai) (3.2.2)\n",
            "Requirement already satisfied: pillow in /usr/local/lib/python3.6/dist-packages (from imageai) (7.0.0)\n",
            "Requirement already satisfied: numpy in /usr/local/lib/python3.6/dist-packages (from imageai) (1.18.5)\n",
            "Requirement already satisfied: scipy in /usr/local/lib/python3.6/dist-packages (from imageai) (1.4.1)\n",
            "Requirement already satisfied: h5py in /usr/local/lib/python3.6/dist-packages (from imageai) (2.10.0)\n",
            "Requirement already satisfied: kiwisolver>=1.0.1 in /usr/local/lib/python3.6/dist-packages (from matplotlib->imageai) (1.2.0)\n",
            "Requirement already satisfied: python-dateutil>=2.1 in /usr/local/lib/python3.6/dist-packages (from matplotlib->imageai) (2.8.1)\n",
            "Requirement already satisfied: cycler>=0.10 in /usr/local/lib/python3.6/dist-packages (from matplotlib->imageai) (0.10.0)\n",
            "Requirement already satisfied: pyparsing!=2.0.4,!=2.1.2,!=2.1.6,>=2.0.1 in /usr/local/lib/python3.6/dist-packages (from matplotlib->imageai) (2.4.7)\n",
            "Requirement already satisfied: six in /usr/local/lib/python3.6/dist-packages (from h5py->imageai) (1.15.0)\n"
          ],
          "name": "stdout"
        }
      ]
    },
    {
      "cell_type": "code",
      "metadata": {
        "id": "EQRXDNw0fIs6"
      },
      "source": [
        "import imageai"
      ],
      "execution_count": 29,
      "outputs": []
    },
    {
      "cell_type": "code",
      "metadata": {
        "id": "Dxt1YSo8fL2L"
      },
      "source": [
        ""
      ],
      "execution_count": null,
      "outputs": []
    },
    {
      "cell_type": "markdown",
      "metadata": {
        "id": "e_31vDgAgPAi"
      },
      "source": [
        "# MARKDOWN EXAMPLES 01\n"
      ]
    },
    {
      "cell_type": "markdown",
      "metadata": {
        "id": "hZ2TDTtog6Ry"
      },
      "source": [
        "Example of Markdown.\n",
        "\n",
        "1) Use single \" * \" asterisk before and after the text to make italic.\n",
        "\n",
        "*I am Italic using single asterisk symbol*\n",
        "\n",
        "2) Use double \" ** \" asterisk before and after the text to make bold.\n",
        "\n",
        "**I am Bold using double asterisk symbol**\n",
        "\n",
        "3) Use double \" __ \" underscore before and after the text to make bold.\n",
        "\n",
        "__I am Bold using double underscore symbol__\n",
        "\n",
        "4) Use single \" ` \" back quote symbol (Acute, back quote, grave, grave accent, left quote, open quote, or a push) before and after the text to represent in single line code format.\n",
        "\n",
        "`\n",
        "I am one line code using single back quote symbol.\n",
        "`\n",
        "\n",
        "5)  Use triple \" ` \" back quote symbol before and after the text to represent multiline code format.\n",
        "\n",
        "\n",
        "```\n",
        "\n",
        "a)  I am code using triple back quote symbol.\n",
        "b)  I am code using triple back quote symbol.\n",
        "c)  I am code using triple back quote symbol.\n",
        "d)  I am code using triple back quote symbol.\n",
        "\n",
        "```\n",
        "\n",
        "6) Use single \" > \" befor text to  indent the text one time.\n",
        "\n",
        "> One indent text using single > symbol\n",
        "\n",
        "7) Use double \" >> \" befor text to  indent the text two times.\n",
        "\n",
        ">> Two indent text using double greater than symbol\n",
        "\n",
        "\n",
        "8) Use triple \" >>> \" befor text to  indent the text three times.\n",
        "\n",
        ">>> Three indent text using double greater than symbol\n",
        "\n",
        "9) An ordered list use number followed by dot.\n",
        "\n",
        "1. One\n",
        "2. Two\n",
        "3. Three\n",
        "\n",
        "10) An uordered list use asterisk \" * \" symbol before text. Use double asterisk to make chile elements.\n",
        "\n",
        "* One\n",
        "** Number One\n",
        "\n",
        "* Two\n",
        "** Number Two\n",
        "\n",
        "* Three\n",
        "** Number Three\n",
        "\n",
        "\n",
        "\n",
        "\n",
        "\n",
        "\n",
        "\n",
        "\n"
      ]
    },
    {
      "cell_type": "code",
      "metadata": {
        "id": "smLfWRwbgftJ"
      },
      "source": [
        ""
      ],
      "execution_count": 39,
      "outputs": []
    },
    {
      "cell_type": "markdown",
      "metadata": {
        "id": "SxRkz2ycn0QA"
      },
      "source": [
        "# MARKDOWN EXAMPLES 02\n"
      ]
    },
    {
      "cell_type": "markdown",
      "metadata": {
        "id": "mcR-GLUbn6xp"
      },
      "source": [
        "## Markdown for inserting links and images in jupyter notebook.\n"
      ]
    },
    {
      "cell_type": "markdown",
      "metadata": {
        "id": "A7idtzTKoEN7"
      },
      "source": [
        "1) To insert link use `[NameOfText](LinkOfURL)`\n",
        "\n",
        "**Note: No empty spaces between [] and () (square brackets and curve brackets) and URL without inverted commas**\n",
        "\n",
        "[Go To Google](https://www.google.com/)\n",
        "\n",
        "\n",
        "2) To insert image link use `![NameForImage](LinkOfImageURL)`\n",
        "\n",
        "**Note: No empty spaces between [] and () (square brackets and curve brackets) and URL without inverted commas**\n",
        "\n",
        "![Python Image](https://www.python.org/static/img/psf-logo@2x.png)\n",
        "\n",
        "\n",
        "\n"
      ]
    },
    {
      "cell_type": "code",
      "metadata": {
        "id": "lkYternEgyNB"
      },
      "source": [
        ""
      ],
      "execution_count": 40,
      "outputs": []
    },
    {
      "cell_type": "markdown",
      "metadata": {
        "id": "Qmg2SOJjq8jU"
      },
      "source": [
        "# MARKDOWN EXAMPLES 03\n",
        "\n"
      ]
    },
    {
      "cell_type": "markdown",
      "metadata": {
        "id": "qQ350GVYq-4Z"
      },
      "source": [
        "## Write Mathematical expression in markdown\n",
        "\n",
        "1) Use \" $ \" dollar sign before and after the maths expresson.\n",
        "\n",
        "$ x = 2 $ and $ y = x^5 $\n",
        "\n",
        "2) Use \" $ \" dollar sign before and after the maths expresson. Use `$\\frac {a} {b}$`\n",
        "\n",
        "$\\frac {a} {b} $\n",
        "\n",
        "$\\frac {8} {3} $\n",
        "\n",
        "$\\frac 3 a $\n",
        "\n",
        "\n",
        "3) Use \" $ \" dollar sign before and after the maths expresson. Use `$\\sum_{i=1}^{n}x_{i}$`\n",
        "\n",
        "$\\sum_{i=1}^{n}x_{i}$\n",
        "\n",
        "\n",
        "4) Create (2 by 2) Matrix example: \n",
        "**Note: Use double \" \\ \" backslash for new line**\n",
        "```\n",
        "$ A = \\begin{pmatrix}\n",
        "a_{1,1} & a_{1,2} \\\\\n",
        "a_{2,1} & a_{2,2}\n",
        "\\end{pmatrix} $\n",
        "```\n",
        "$ A = \\begin{pmatrix}\n",
        "a_{1,1} & a_{1,2} \\\\\n",
        "a_{2,1} & a_{2,2}\n",
        "\\end{pmatrix} $\n",
        "\n",
        "\n",
        "5) Create table using this example code:\n",
        "```\n",
        "col1 | col2 | col3 \n",
        "--- | --- | ---\n",
        "Value 1a | Value 2a | Value3a\n",
        "Value 1b | Value 2b | Value3b\n",
        "Value 1c | Value 2c | Value3c\n",
        "Value 1d | Value 2d | Value3d\n",
        "\n",
        "```\n",
        "col1 | col2 | col3 \n",
        "--- | --- | ---\n",
        "Value 1a | Value 2a | Value3a\n",
        "Value 1b | Value 2b | Value3b\n",
        "Value 1c | Value 2c | Value3c\n",
        "Value 1d | Value 2d | Value3d\n"
      ]
    },
    {
      "cell_type": "code",
      "metadata": {
        "id": "Jas021I8objD"
      },
      "source": [
        ""
      ],
      "execution_count": null,
      "outputs": []
    }
  ]
}